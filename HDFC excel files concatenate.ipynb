{
 "cells": [
  {
   "cell_type": "code",
   "execution_count": null,
   "id": "debb66f6",
   "metadata": {},
   "outputs": [],
   "source": [
    "import os as os\n",
    "import pandas as pd\n",
    "import numpy as np"
   ]
  },
  {
   "cell_type": "code",
   "execution_count": null,
   "id": "5e40019a",
   "metadata": {},
   "outputs": [],
   "source": [
    "os.chdir(\"C:\\\\Users\\HP\\\\Desktop\\\\Bluetick.ai\\\\Credit and Debit Card Usage in India\")"
   ]
  },
  {
   "cell_type": "code",
   "execution_count": null,
   "id": "923469da",
   "metadata": {},
   "outputs": [],
   "source": [
    "os.listdir()"
   ]
  },
  {
   "cell_type": "code",
   "execution_count": null,
   "id": "57fd3003",
   "metadata": {},
   "outputs": [],
   "source": [
    "april = pd.read_excel(\"April 2022.xlsx\")\n",
    "may = pd.read_excel(\"May 2022.xlsx\")\n",
    "june = pd.read_excel(\"June 2022.xlsx\")\n",
    "july = pd.read_excel(\"July 2022.xlsx\")\n",
    "august = pd.read_excel(\"August 2022.xlsx\")\n",
    "september = pd.read_excel(\"September 2022.xlsx\")\n",
    "october = pd.read_excel(\"October 2022.xlsx\")\n",
    "november = pd.read_excel(\"November 2022.xlsx\")\n",
    "december = pd.read_excel(\"December 2022.xlsx\")\n",
    "january = pd.read_excel(\"January 2023.xlsx\")\n",
    "february = pd.read_excel(\"February 2023.xlsx\")\n",
    "march = pd.read_excel(\"March 2023.xlsx\")"
   ]
  },
  {
   "cell_type": "code",
   "execution_count": null,
   "id": "81841f21",
   "metadata": {},
   "outputs": [],
   "source": [
    "april"
   ]
  },
  {
   "cell_type": "code",
   "execution_count": null,
   "id": "1e2fb994",
   "metadata": {},
   "outputs": [],
   "source": [
    "april.info()"
   ]
  },
  {
   "cell_type": "code",
   "execution_count": null,
   "id": "9c8c4be5",
   "metadata": {},
   "outputs": [],
   "source": [
    "# 12 months concatenate\n",
    "\n",
    "concat_3 = pd.concat([april,may,june,july,august,september,october,november,december,january,february,march], ignore_index=True, axis=0)"
   ]
  },
  {
   "cell_type": "code",
   "execution_count": null,
   "id": "32916d45",
   "metadata": {},
   "outputs": [],
   "source": [
    "concat_3"
   ]
  },
  {
   "cell_type": "code",
   "execution_count": null,
   "id": "22b3599c",
   "metadata": {},
   "outputs": [],
   "source": [
    "concat_3.to_csv(\"Masterfile_12 months.csv\")"
   ]
  },
  {
   "cell_type": "code",
   "execution_count": null,
   "id": "6c3b860b",
   "metadata": {},
   "outputs": [],
   "source": [
    "concat_3.to_excel(\"Masterfile excel_12 months.xlsx\")"
   ]
  }
 ],
 "metadata": {
  "kernelspec": {
   "display_name": "Python 3 (ipykernel)",
   "language": "python",
   "name": "python3"
  },
  "language_info": {
   "codemirror_mode": {
    "name": "ipython",
    "version": 3
   },
   "file_extension": ".py",
   "mimetype": "text/x-python",
   "name": "python",
   "nbconvert_exporter": "python",
   "pygments_lexer": "ipython3",
   "version": "3.9.12"
  }
 },
 "nbformat": 4,
 "nbformat_minor": 5
}
