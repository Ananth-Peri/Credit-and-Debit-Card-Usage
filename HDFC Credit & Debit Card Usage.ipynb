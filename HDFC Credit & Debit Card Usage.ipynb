{
 "cells": [
  {
   "cell_type": "code",
   "execution_count": 1,
   "id": "9f3c1487",
   "metadata": {},
   "outputs": [],
   "source": [
    "# Importing the requisite libraries\n",
    "\n",
    "from selenium import webdriver\n",
    "\n",
    "import time\n",
    "\n",
    "from selenium.webdriver.chrome.service import Service\n",
    "\n",
    "from selenium.webdriver.support.ui import WebDriverWait\n",
    "\n",
    "from selenium.webdriver.support import expected_conditions as EC\n",
    "\n",
    "from bs4 import BeautifulSoup\n",
    "\n",
    "import codecs\n",
    "\n",
    "import re\n",
    "\n",
    "from webdriver_manager.chrome import ChromeDriverManager\n",
    "\n",
    "from selenium.webdriver.common.by import By"
   ]
  },
  {
   "cell_type": "code",
   "execution_count": 2,
   "id": "78550403",
   "metadata": {},
   "outputs": [],
   "source": [
    "# We are importing chrome options, with no conditions\n",
    "\n",
    "options = webdriver.ChromeOptions()"
   ]
  },
  {
   "cell_type": "code",
   "execution_count": 3,
   "id": "063b082f",
   "metadata": {},
   "outputs": [],
   "source": [
    "# prefs = {\"download.default_directory\":\"C:\\\\Users\\\\HP\\Desktop\\\\Bluetick.ai\\\\Credit and Debit Card Usage in India\"}"
   ]
  },
  {
   "cell_type": "code",
   "execution_count": 4,
   "id": "ac1e2302",
   "metadata": {},
   "outputs": [],
   "source": [
    "# Here, we are adding additional conditions to our options \n",
    "\n",
    "# 1. setting our download directory for our files\n",
    "\n",
    "# 2. we are setting prompt for download as \"false\" as we do not need the browser to ask our permission\n",
    "\n",
    "# 3. setting our excel files to open externally as \"true\", i.e. we want our file to download in our system and then open\n",
    "\n",
    "options.add_experimental_option(\"prefs\", {\"download.default_directory\":\"C:\\\\Users\\\\HP\\Desktop\\\\Bluetick.ai\\\\Credit and Debit Card Usage in India\", \"download.prompt_for_download\":False, \"plugins.always_open_xlsx_externally\":True});"
   ]
  },
  {
   "cell_type": "code",
   "execution_count": 5,
   "id": "ed280b63",
   "metadata": {},
   "outputs": [
    {
     "name": "stderr",
     "output_type": "stream",
     "text": [
      "C:\\Users\\HP\\AppData\\Local\\Temp\\ipykernel_5720\\1125858490.py:1: DeprecationWarning: executable_path has been deprecated, please pass in a Service object\n",
      "  driver=webdriver.Chrome(executable_path=\"C:\\\\Users\\\\HP\\\\Downloads\\\\chromedriver_win32\\\\chromedriver.exe\", chrome_options=options);\n",
      "C:\\Users\\HP\\AppData\\Local\\Temp\\ipykernel_5720\\1125858490.py:1: DeprecationWarning: use options instead of chrome_options\n",
      "  driver=webdriver.Chrome(executable_path=\"C:\\\\Users\\\\HP\\\\Downloads\\\\chromedriver_win32\\\\chromedriver.exe\", chrome_options=options);\n"
     ]
    }
   ],
   "source": [
    "# creating our driver by installing the chromedriver using the path where the file is located, and passing our options conditions\n",
    "\n",
    "driver=webdriver.Chrome(executable_path=\"C:\\\\Users\\\\HP\\\\Downloads\\\\chromedriver_win32\\\\chromedriver.exe\", chrome_options=options);"
   ]
  },
  {
   "cell_type": "code",
   "execution_count": 6,
   "id": "ba15c4a9",
   "metadata": {},
   "outputs": [],
   "source": [
    "# we're opening the url we want, and passing a command to maximize the window and waiting for 5 seconds for website to load completely\n",
    "\n",
    "driver.get(\"https://www.rbi.org.in/Scripts/ATMView.aspx\")\n",
    "\n",
    "driver.maximize_window()\n",
    "\n",
    "driver.implicitly_wait(5)"
   ]
  },
  {
   "cell_type": "code",
   "execution_count": 7,
   "id": "88296304",
   "metadata": {},
   "outputs": [],
   "source": [
    "# driver.close()"
   ]
  },
  {
   "cell_type": "code",
   "execution_count": 8,
   "id": "b674ac09",
   "metadata": {},
   "outputs": [],
   "source": [
    "# Here, in the website, we're first creating a element where in the website, the driver will click \"2023\", and then \"all months\"\n",
    "\n",
    "# Here, we are finding only single element/singl button, hence \"find_element\"\n",
    "\n",
    "button_2023 = driver.find_element(By.ID, \"btn2023\")\n",
    "\n",
    "button_2023.click()\n",
    "\n",
    "button_2023_all = driver.find_element(By.ID, \"20230\")\n",
    "\n",
    "button_2023_all.click()"
   ]
  },
  {
   "cell_type": "code",
   "execution_count": 9,
   "id": "c2521005",
   "metadata": {},
   "outputs": [],
   "source": [
    "# Here, we are storing all the elements by xpath, and then creating a condition to click all the files with given conditions\n",
    "\n",
    "# This condition will download all the excel files in year 2023\n",
    "\n",
    "# Here, we are using \"find_elements\" as there are multiple files in the page\n",
    "\n",
    "all_a_tags = driver.find_elements(By.XPATH, \"//a\")\n",
    "\n",
    "for a in all_a_tags:\n",
    "    \n",
    "    if a.get_attribute('href') and '.XLSX' in a.get_attribute('href'):\n",
    "        a.click()\n",
    "        driver.implicitly_wait(5)"
   ]
  },
  {
   "cell_type": "code",
   "execution_count": 10,
   "id": "0f7c474c",
   "metadata": {},
   "outputs": [],
   "source": [
    "# After completing above task, we'll now find button of \"2022\" and click \"all months\"\n",
    "\n",
    "button_2022 = driver.find_element(By.ID, \"btn2022\")\n",
    "\n",
    "button_2022.click()\n",
    "\n",
    "button_all = driver.find_element(By.ID, \"20220\")\n",
    "\n",
    "button_all.click()"
   ]
  },
  {
   "cell_type": "code",
   "execution_count": 11,
   "id": "96832a72",
   "metadata": {},
   "outputs": [],
   "source": [
    "# Here, we are storing all the elements by xpath, and then creating a condition to click all the files with given conditions\n",
    "\n",
    "# This condition will download april-december 2022 excel files\n",
    "\n",
    "# Here, we've set our count to 0, and for each file, the corresponding count will increase. for eg. dec - 0, nov - 1; once it reaches 8 (apr), the loop will break and downloads will stop\n",
    "\n",
    "all_a_tags = driver.find_elements(By.XPATH, \"//a\")\n",
    "\n",
    "count = 0\n",
    "\n",
    "for a in all_a_tags:\n",
    "    \n",
    "    if a.get_attribute('href') and '.XLSX' in a.get_attribute('href'):\n",
    "        a.click()\n",
    "        driver.implicitly_wait(5)\n",
    "        \n",
    "        count+=1\n",
    "        if count>8:\n",
    "            break\n",
    "        "
   ]
  },
  {
   "cell_type": "code",
   "execution_count": 12,
   "id": "aa0c462b",
   "metadata": {},
   "outputs": [],
   "source": [
    "# Closing the driver\n",
    "\n",
    "driver.close()"
   ]
  }
 ],
 "metadata": {
  "kernelspec": {
   "display_name": "Python 3 (ipykernel)",
   "language": "python",
   "name": "python3"
  },
  "language_info": {
   "codemirror_mode": {
    "name": "ipython",
    "version": 3
   },
   "file_extension": ".py",
   "mimetype": "text/x-python",
   "name": "python",
   "nbconvert_exporter": "python",
   "pygments_lexer": "ipython3",
   "version": "3.9.12"
  }
 },
 "nbformat": 4,
 "nbformat_minor": 5
}
