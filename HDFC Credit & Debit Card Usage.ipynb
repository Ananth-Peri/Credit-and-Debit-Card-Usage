{
 "cells": [
  {
   "cell_type": "code",
   "execution_count": 1,
   "id": "9f3c1487",
   "metadata": {},
   "outputs": [],
   "source": [
    "# Importing the requisite libraries\n",
    "\n",
    "from selenium import webdriver\n",
    "\n",
    "import time\n",
    "\n",
    "from selenium.webdriver.chrome.service import Service\n",
    "\n",
    "from selenium.webdriver.support.ui import WebDriverWait\n",
    "\n",
    "from selenium.webdriver.support import expected_conditions as EC\n",
    "\n",
    "from bs4 import BeautifulSoup\n",
    "\n",
    "import codecs\n",
    "\n",
    "import re\n",
    "\n",
    "from selenium.webdriver.common.by import By"
   ]
  },
  {
   "cell_type": "code",
   "execution_count": 2,
   "id": "c9a9fd22",
   "metadata": {},
   "outputs": [],
   "source": [
    "# We are importing chrome options, with no conditions\n",
    "\n",
    "# Here, we are adding additional conditions to our options \n",
    "\n",
    "# 1. setting our download directory for our files\n",
    "\n",
    "# 2. we are setting prompt for download as \"false\" as we do not need the browser to ask our permission\n",
    "\n",
    "# 3. setting our excel files to open externally as \"true\", i.e. we want our file to download in our system and then open\n",
    "\n",
    "options = webdriver.ChromeOptions()\n",
    "options.add_experimental_option(\"prefs\", {\"download.default_directory\":\"C:\\\\Users\\\\HP\\Desktop\\\\Bluetick.ai\\\\Credit and Debit Card Usage in India\", \"download.prompt_for_download\":False, \"plugins.always_open_xlsx_externally\":True});"
   ]
  },
  {
   "cell_type": "code",
   "execution_count": 3,
   "id": "b2ab4f43",
   "metadata": {},
   "outputs": [],
   "source": [
    "# !pip install chromedriver-py\n",
    "\n",
    "from chromedriver_py import binary_path\n",
    "svc = webdriver.ChromeService(executable_path=binary_path)\n",
    "driver = webdriver.Chrome(service=svc, options=options)"
   ]
  },
  {
   "cell_type": "code",
   "execution_count": 4,
   "id": "ba15c4a9",
   "metadata": {},
   "outputs": [],
   "source": [
    "# we're opening the url we want, and passing a command to maximize the window and waiting for 5 seconds for website to load completely\n",
    "\n",
    "driver.get(\"https://www.rbi.org.in/Scripts/ATMView.aspx\")\n",
    "\n",
    "driver.maximize_window()\n",
    "\n",
    "driver.implicitly_wait(5)"
   ]
  },
  {
   "cell_type": "code",
   "execution_count": 5,
   "id": "4a67b938",
   "metadata": {},
   "outputs": [],
   "source": [
    "# Here, in the website, we're first creating a element where in the website, the driver will click \"2023\", and then \"all months\"\n",
    "\n",
    "# Here, we are finding only single element/single button, hence \"find_element\"\n",
    "\n",
    "button_2023 = driver.find_element(By.ID, \"btn2023\")\n",
    "\n",
    "button_2023.click()\n",
    "\n",
    "button_2023_all = driver.find_element(By.ID, \"20230\")\n",
    "\n",
    "button_2023_all.click()"
   ]
  },
  {
   "cell_type": "code",
   "execution_count": 6,
   "id": "6688f7e7",
   "metadata": {},
   "outputs": [],
   "source": [
    "# Here, we are storing all the elements by xpath in an empty list, and then creating a condition to click all the files with given conditions\n",
    "\n",
    "# We will then reverse the list to download Jan, Feb and March excel files in year 2023\n",
    "\n",
    "# Here, we are using \"find_elements\" as there are multiple files in the page\n",
    "\n",
    "all_a_tags = driver.find_elements(By.XPATH, \"//a\")\n",
    "\n",
    "xlsx_links = []\n",
    "for a in all_a_tags:\n",
    "    href = a.get_attribute('href')\n",
    "    if href and '.XLSX' in href:\n",
    "        xlsx_links.append(href)\n",
    "        \n",
    "xlsx_links.reverse()\n",
    "\n",
    "for i in range(3):\n",
    "    driver.get(xlsx_links[i])\n",
    "    driver.implicitly_wait(7)"
   ]
  },
  {
   "cell_type": "code",
   "execution_count": 7,
   "id": "debf295f",
   "metadata": {},
   "outputs": [],
   "source": [
    "# After completing above task, we'll now find button of \"2022\" and click \"all months\"\n",
    "\n",
    "button_2022 = driver.find_element(By.ID, \"btn2022\")\n",
    "\n",
    "button_2022.click()\n",
    "\n",
    "button_all = driver.find_element(By.ID, \"20220\")\n",
    "\n",
    "button_all.click()\n",
    "\n",
    "driver.implicitly_wait(5)"
   ]
  },
  {
   "cell_type": "code",
   "execution_count": 8,
   "id": "8a1c7b8c",
   "metadata": {},
   "outputs": [],
   "source": [
    "# Here, we are storing all the elements by xpath, and then creating a condition to click all the files with given conditions\n",
    "\n",
    "# This condition will download april-december 2022 excel files\n",
    "\n",
    "# Here, we've set our count to 0, and for each file, the corresponding count will increase. for eg. dec - 0, nov - 1; once it reaches 8 (apr), the loop will break and downloads will stop\n",
    "\n",
    "all_a_tags = driver.find_elements(By.XPATH, \"//a\")\n",
    "\n",
    "count = 0\n",
    "\n",
    "for a in all_a_tags:\n",
    "    \n",
    "    if a.get_attribute('href') and '.XLSX' in a.get_attribute('href'):\n",
    "        a.click()\n",
    "        driver.implicitly_wait(10)\n",
    "        \n",
    "        count+=1\n",
    "        if count>8:\n",
    "            break\n",
    "driver.implicitly_wait(5)"
   ]
  },
  {
   "cell_type": "code",
   "execution_count": 9,
   "id": "e5a2eb47",
   "metadata": {},
   "outputs": [],
   "source": [
    "# Closing the driver\n",
    "\n",
    "driver.close()"
   ]
  },
  {
   "cell_type": "code",
   "execution_count": 10,
   "id": "325039ba",
   "metadata": {},
   "outputs": [],
   "source": [
    "# Quitting the driver \n",
    "\n",
    "driver.quit()"
   ]
  }
 ],
 "metadata": {
  "kernelspec": {
   "display_name": "Python 3 (ipykernel)",
   "language": "python",
   "name": "python3"
  },
  "language_info": {
   "codemirror_mode": {
    "name": "ipython",
    "version": 3
   },
   "file_extension": ".py",
   "mimetype": "text/x-python",
   "name": "python",
   "nbconvert_exporter": "python",
   "pygments_lexer": "ipython3",
   "version": "3.11.4"
  }
 },
 "nbformat": 4,
 "nbformat_minor": 5
}
